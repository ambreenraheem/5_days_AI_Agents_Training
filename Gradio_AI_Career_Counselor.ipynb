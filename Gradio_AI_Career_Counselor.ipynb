{
  "nbformat": 4,
  "nbformat_minor": 0,
  "metadata": {
    "colab": {
      "provenance": [],
      "authorship_tag": "ABX9TyOf1KoVMjCdCJRj5XXUC1Mw",
      "include_colab_link": true
    },
    "kernelspec": {
      "name": "python3",
      "display_name": "Python 3"
    },
    "language_info": {
      "name": "python"
    }
  },
  "cells": [
    {
      "cell_type": "markdown",
      "metadata": {
        "id": "view-in-github",
        "colab_type": "text"
      },
      "source": [
        "<a href=\"https://colab.research.google.com/github/ambreenraheem/5_days_AI_Agents_Training/blob/main/Gradio_AI_Career_Counselor.ipynb\" target=\"_parent\"><img src=\"https://colab.research.google.com/assets/colab-badge.svg\" alt=\"Open In Colab\"/></a>"
      ]
    },
    {
      "cell_type": "markdown",
      "source": [
        "# Ambreen Abdul Raheem\n",
        "(Power BI Data Analyst-Upwork Freelancer)\\\n",
        "\n",
        "MidTerm Project: AI Career Counselor Agent\n",
        "\n",
        "Hugging Face Link: https://huggingface.co/spaces/ambreenraheem/AI_Career_Counselor"
      ],
      "metadata": {
        "id": "K6Q7rH1-wQNz"
      }
    },
    {
      "cell_type": "code",
      "execution_count": null,
      "metadata": {
        "id": "j1lLlU5ywFaZ"
      },
      "outputs": [],
      "source": [
        "import os\n",
        "import requests\n",
        "import gradio as gr\n",
        "from dotenv import load_dotenv\n",
        "\n",
        "# Load environment variables\n",
        "load_dotenv()\n",
        "GEMINI_API_KEY = os.environ.get(\"GEMINI_API_KEY\")\n",
        "GEMINI_URL = \"https://generativelanguage.googleapis.com/v1beta/models/gemini-2.5-flash:generateContent\"\n",
        "\n",
        "# API headers\n",
        "headers = {\n",
        "    \"Content-Type\": \"application/json\",\n",
        "    \"x-goog-api-key\": GEMINI_API_KEY\n",
        "}\n",
        "\n",
        "# Conversation memory\n",
        "chat_history = []\n",
        "\n",
        "# Career counselor system prompt (will be prepended to first user message)\n",
        "SYSTEM_PROMPT = (\n",
        "    \"You are a professional, empathetic, and thorough global career counselor for students. \"\n",
        "    \"When a student asks about careers or professions, respond with a structured, actionable plan. \"\n",
        "    \"Include: 1) Overview, 2) Responsibilities, 3) Education/Pathways, 4) Skills, \"\n",
        "    \"5) Salary & Outlook (as estimates), 6) Related roles, 7) Learning resources, \"\n",
        "    \"8) Preparation by school stage, 9) Interview/CV tips, 10) 6–12 month personalized plan. \"\n",
        "    \"Ask one clarifying question if the user's query is vague. \"\n",
        "    \"Tone should be encouraging and clear. Tailor advice for the student's age & location if given.\"\n",
        ")\n",
        "\n",
        "def ensure_system_prompt():\n",
        "    \"\"\"Prepend system instructions to first user message (Gemini doesn't support 'system' role).\"\"\"\n",
        "    if not chat_history:\n",
        "        chat_history.append({\n",
        "            \"role\": \"user\",\n",
        "            \"parts\": [{\"text\": f\"Instruction: {SYSTEM_PROMPT}\"}]\n",
        "        })\n",
        "\n",
        "def build_user_message(user_input, student_context):\n",
        "    \"\"\"Builds the user's message with optional student context.\"\"\"\n",
        "    if student_context.strip():\n",
        "        return {\n",
        "            \"role\": \"user\",\n",
        "            \"parts\": [{\"text\": f\"Student context: {student_context.strip()}\\nQuestion: {user_input.strip()}\"}]\n",
        "        }\n",
        "    else:\n",
        "        return {\"role\": \"user\", \"parts\": [{\"text\": user_input.strip()}]}\n",
        "\n",
        "def generate_reply(user_input, student_context=\"\"):\n",
        "    \"\"\"Send request to Gemini API and return the career advice.\"\"\"\n",
        "    ensure_system_prompt()\n",
        "    chat_history.append(build_user_message(user_input, student_context))\n",
        "\n",
        "    body = {\n",
        "        \"contents\": chat_history,\n",
        "        \"generationConfig\": {\n",
        "            \"temperature\": 0.3,\n",
        "            \"topK\": 1,\n",
        "            \"topP\": 0.95,\n",
        "            \"maxOutputTokens\": 2048  # Allow longer answers\n",
        "        }\n",
        "    }\n",
        "\n",
        "    try:\n",
        "        response = requests.post(GEMINI_URL, headers=headers, json=body, timeout=30)\n",
        "    except Exception as e:\n",
        "        return f\"**Error:** Request failed — {str(e)}\"\n",
        "\n",
        "    if response.status_code == 200:\n",
        "        result = response.json()\n",
        "\n",
        "        # Safe text extraction\n",
        "        try:\n",
        "            parts = result[\"candidates\"][0][\"content\"].get(\"parts\", [])\n",
        "            if parts:\n",
        "                reply = parts[0][\"text\"]\n",
        "            else:\n",
        "                reply = \"_(No content returned — possibly cut off due to token limit)_\"\n",
        "        except Exception as e:\n",
        "            reply = f\"**Error parsing model reply:** {str(e)}\"\n",
        "\n",
        "        chat_history.append({\"role\": \"model\", \"parts\": [{\"text\": reply}]})\n",
        "        return reply\n",
        "    else:\n",
        "        return f\"**Error {response.status_code}:** {response.text}\"\n",
        "\n",
        "# Minimal clean interface using gr.Interface\n",
        "demo = gr.Interface(\n",
        "    fn=generate_reply,\n",
        "    inputs=[\n",
        "        gr.Textbox(label=\"Ask the Career Counselor\", placeholder=\"E.g., I like biology, what careers fit me?\"),\n",
        "        gr.Textbox(label=\"Optional Student Context\", placeholder=\"E.g., 15 years old, Pakistan, likes coding\", lines=2)\n",
        "    ],\n",
        "    outputs=gr.Markdown(),\n",
        "    title=\"Career Counselor Agent (Gemini 2.5 Flash)\",\n",
        "    description=(\n",
        "        \"Ask about careers, professions, study paths, and personalised plans for students. \"\n",
        "        \"You can provide optional details like age, grade, interests, and country for tailored advice.\"\n",
        "    )\n",
        ")\n",
        "\n",
        "if __name__ == \"__main__\":\n",
        "    if not GEMINI_API_KEY:\n",
        "        print(\"Warning: GEMINI_API_KEY not found in environment. Set it in your Hugging Face Space or .env file.\")\n",
        "    demo.launch(share=True)"
      ]
    },
    {
      "cell_type": "markdown",
      "source": [
        "requirements.txt"
      ],
      "metadata": {
        "id": "DkQo7NE6wjDk"
      }
    },
    {
      "cell_type": "code",
      "source": [
        "huggingface_hub==0.25.2\n",
        "python-dotenv\n",
        "gradio\n",
        "requests\n",
        "websockets"
      ],
      "metadata": {
        "id": "-pfkSdrcwq95"
      },
      "execution_count": null,
      "outputs": []
    }
  ]
}